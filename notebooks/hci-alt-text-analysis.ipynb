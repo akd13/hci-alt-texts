{
 "cells": [
  {
   "cell_type": "markdown",
   "id": "a5334280",
   "metadata": {},
   "source": [
    "# Analysis of HCI Alt Text Dataset"
   ]
  },
  {
   "cell_type": "code",
   "execution_count": 186,
   "id": "ebf06cae",
   "metadata": {},
   "outputs": [],
   "source": [
    "import os\n",
    "import json\n",
    "import csv\n",
    "import gzip\n",
    "import itertools\n",
    "from collections import defaultdict, Counter\n",
    "import numpy as np\n",
    "import matplotlib.pyplot as plt\n",
    "from pprint import pprint\n",
    "from cycler import cycler\n",
    "from typing import List\n",
    "import seaborn as sns\n",
    "from pandas import DataFrame\n",
    "import pandas as pd\n",
    "import matplotlib as mpl\n",
    "from matplotlib.patches import Patch\n",
    "import spacy\n",
    "import random\n",
    "from scipy.stats import sem\n",
    "\n",
    "nlp = spacy.load(\"en_core_sci_sm\")\n",
    "\n",
    "# The dataset is expected to be located at `data/annotation_data.json`\n",
    "DATA_FILE = '../data/annotation_data.json'\n",
    "\n",
    "# If saving plots, specify output directory and uncomment\n",
    "# OUTPUT_DIR = '../plots'\n",
    "# os.makedirs(OUTPUT_DIR, exist_ok=True)\n",
    "\n",
    "# Plotting colors\n",
    "tableau20 = [\n",
    "    (31, 119, 180), (255, 127, 14), (255, 187, 120),\n",
    "    (44, 160, 44), (152, 223, 138), (214, 39, 40), (255, 152, 150),\n",
    "    (148, 103, 189), (197, 176, 213), (140, 86, 75), (196, 156, 148),\n",
    "    (227, 119, 194), (247, 182, 210), (127, 127, 127), (199, 199, 199),\n",
    "    (188, 189, 34), (219, 219, 141), (23, 190, 207), (158, 218, 229)\n",
    "]\n",
    "\n",
    "# Scale the RGB values to the [0, 1] range, which is the format matplotlib accepts.\n",
    "for i in range(len(tableau20)):\n",
    "    r, g, b = tableau20[i]\n",
    "    tableau20[i] = (r / 255., g / 255., b / 255.)\n",
    "\n",
    "# Tableau Color Blind 10\n",
    "tableau20blind = [(0, 107, 164), (255, 128, 14), (171, 171, 171), (89, 89, 89),\n",
    "             (95, 158, 209), (200, 82, 0), (137, 137, 137), (163, 200, 236),\n",
    "             (255, 188, 121), (207, 207, 207)]\n",
    "\n",
    "# Scale the RGB values to the [0, 1] range, which is the format matplotlib accepts.\n",
    "for i in range(len(tableau20blind)):\n",
    "    r, g, b = tableau20blind[i]\n",
    "    tableau20blind[i] = (r / 255., g / 255., b / 255.)\n",
    "    \n",
    "# Color-line cycler\n",
    "cycler_cl = cycler('linestyle', ['-', '--', ':', '-.', '-', '--']) * cycler('color', tableau20blind)\n",
    "\n",
    "# flatten list of lists\n",
    "def flatten(l: List) -> List:\n",
    "    return [item for sublist in l for item in sublist]"
   ]
  },
  {
   "cell_type": "code",
   "execution_count": 50,
   "id": "308305d8",
   "metadata": {},
   "outputs": [
    {
     "name": "stdout",
     "output_type": "stream",
     "text": [
      "Entries: 1085\n"
     ]
    }
   ],
   "source": [
    "# Load the dataset\n",
    "with open(DATA_FILE, 'r') as f:\n",
    "    data = json.load(f)\n",
    "    \n",
    "for entry in data:\n",
    "    doc = nlp(entry['alt_text'])\n",
    "    sentences = [sent.text.strip() for sent in doc.sents]\n",
    "    entry['sentences'] = sentences\n",
    "    levels = flatten(entry['levels'])\n",
    "    has_1_2_3 = 1 in levels and 2 in levels and 3 in levels\n",
    "    has_1_2 = 1 in levels and 2 in levels\n",
    "    entry['is_figure'] = bool(set(levels) - {-1})\n",
    "    entry['has_1_2_3'] = has_1_2_3\n",
    "    entry['has_1_2'] = has_1_2\n",
    "    \n",
    "print(f'Entries: {len(data)}')"
   ]
  },
  {
   "cell_type": "code",
   "execution_count": 51,
   "id": "a9809e1b",
   "metadata": {},
   "outputs": [
    {
     "data": {
      "text/plain": [
       "{'image_uri': 's3://ai2-s2-accessible-figures/downloaded_papers/batch_0/images/5fe63a4c521dd10ca9ec9b4e7dc07f6194c564cc_files/Image_008.png',\n",
       " 'title': 'A readability evaluation of real-time crowd captions in the classroom',\n",
       " 'year': 2012,\n",
       " 'corpus_id': 14745329,\n",
       " 'venue': \"ASSETS '12\",\n",
       " 'pdf_hash': '5fe63a4c521dd10ca9ec9b4e7dc07f6194c564cc',\n",
       " 'alt_text': 'Figure 5: A graph of the latencies for each transcript (professional, automatic and crowd). Professional and crowd captions have latencies under 5 seconds which allows students to keep up with the lecture.',\n",
       " 'caption': '',\n",
       " 'link': 'https://drive.google.com/file/d/1GjhcFZzcLpRo4mABKaL_JI-rtSrGzZYU/view?usp=drivesdk',\n",
       " 'levels': [[1], [3, 2]],\n",
       " 'sentences': ['Figure 5: A graph of the latencies for each transcript (professional, automatic and crowd).',\n",
       "  'Professional and crowd captions have latencies under 5 seconds which allows students to keep up with the lecture.'],\n",
       " 'is_figure': True,\n",
       " 'has_1_2_3': True,\n",
       " 'has_1_2': True}"
      ]
     },
     "execution_count": 51,
     "metadata": {},
     "output_type": "execute_result"
    }
   ],
   "source": [
    "data[0]"
   ]
  },
  {
   "cell_type": "markdown",
   "id": "4affe335",
   "metadata": {},
   "source": [
    "## Analyzing alt text quantity over time"
   ]
  },
  {
   "cell_type": "code",
   "execution_count": 188,
   "id": "f89e2b3f",
   "metadata": {},
   "outputs": [
    {
     "name": "stdout",
     "output_type": "stream",
     "text": [
      "=== BOOTSTRAPPING ===\n",
      "2010\n",
      "2011\n",
      "2012\n",
      "2013\n",
      "2014\n",
      "2015\n",
      "2016\n",
      "2017\n",
      "2018\n",
      "2019\n",
      "2020\n",
      "2021\n"
     ]
    },
    {
     "data": {
      "text/html": [
       "<div>\n",
       "<style scoped>\n",
       "    .dataframe tbody tr th:only-of-type {\n",
       "        vertical-align: middle;\n",
       "    }\n",
       "\n",
       "    .dataframe tbody tr th {\n",
       "        vertical-align: top;\n",
       "    }\n",
       "\n",
       "    .dataframe thead th {\n",
       "        text-align: right;\n",
       "    }\n",
       "</style>\n",
       "<table border=\"1\" class=\"dataframe\">\n",
       "  <thead>\n",
       "    <tr style=\"text-align: right;\">\n",
       "      <th></th>\n",
       "      <th>Year</th>\n",
       "      <th>Alttext_okay</th>\n",
       "      <th>Total</th>\n",
       "      <th>BS_mean</th>\n",
       "      <th>BS_stdev</th>\n",
       "      <th>BS_sterr</th>\n",
       "      <th>Proportion w/ alt-text</th>\n",
       "    </tr>\n",
       "  </thead>\n",
       "  <tbody>\n",
       "    <tr>\n",
       "      <th>0</th>\n",
       "      <td>2010</td>\n",
       "      <td>14</td>\n",
       "      <td>1894</td>\n",
       "      <td>0.007406</td>\n",
       "      <td>0.001958</td>\n",
       "      <td>0.000062</td>\n",
       "      <td>0.007392</td>\n",
       "    </tr>\n",
       "    <tr>\n",
       "      <th>1</th>\n",
       "      <td>2011</td>\n",
       "      <td>9</td>\n",
       "      <td>2068</td>\n",
       "      <td>0.004324</td>\n",
       "      <td>0.001494</td>\n",
       "      <td>0.000047</td>\n",
       "      <td>0.004352</td>\n",
       "    </tr>\n",
       "    <tr>\n",
       "      <th>2</th>\n",
       "      <td>2012</td>\n",
       "      <td>12</td>\n",
       "      <td>2101</td>\n",
       "      <td>0.005662</td>\n",
       "      <td>0.001639</td>\n",
       "      <td>0.000052</td>\n",
       "      <td>0.005712</td>\n",
       "    </tr>\n",
       "    <tr>\n",
       "      <th>3</th>\n",
       "      <td>2013</td>\n",
       "      <td>22</td>\n",
       "      <td>2151</td>\n",
       "      <td>0.010239</td>\n",
       "      <td>0.002160</td>\n",
       "      <td>0.000068</td>\n",
       "      <td>0.010228</td>\n",
       "    </tr>\n",
       "    <tr>\n",
       "      <th>4</th>\n",
       "      <td>2014</td>\n",
       "      <td>80</td>\n",
       "      <td>2303</td>\n",
       "      <td>0.034740</td>\n",
       "      <td>0.003765</td>\n",
       "      <td>0.000119</td>\n",
       "      <td>0.034737</td>\n",
       "    </tr>\n",
       "    <tr>\n",
       "      <th>5</th>\n",
       "      <td>2015</td>\n",
       "      <td>75</td>\n",
       "      <td>2367</td>\n",
       "      <td>0.031667</td>\n",
       "      <td>0.003633</td>\n",
       "      <td>0.000115</td>\n",
       "      <td>0.031686</td>\n",
       "    </tr>\n",
       "    <tr>\n",
       "      <th>6</th>\n",
       "      <td>2016</td>\n",
       "      <td>60</td>\n",
       "      <td>2409</td>\n",
       "      <td>0.024894</td>\n",
       "      <td>0.003134</td>\n",
       "      <td>0.000099</td>\n",
       "      <td>0.024907</td>\n",
       "    </tr>\n",
       "    <tr>\n",
       "      <th>7</th>\n",
       "      <td>2017</td>\n",
       "      <td>88</td>\n",
       "      <td>2376</td>\n",
       "      <td>0.036870</td>\n",
       "      <td>0.003874</td>\n",
       "      <td>0.000123</td>\n",
       "      <td>0.037037</td>\n",
       "    </tr>\n",
       "    <tr>\n",
       "      <th>8</th>\n",
       "      <td>2018</td>\n",
       "      <td>111</td>\n",
       "      <td>2447</td>\n",
       "      <td>0.045365</td>\n",
       "      <td>0.004192</td>\n",
       "      <td>0.000133</td>\n",
       "      <td>0.045362</td>\n",
       "    </tr>\n",
       "    <tr>\n",
       "      <th>9</th>\n",
       "      <td>2019</td>\n",
       "      <td>123</td>\n",
       "      <td>2432</td>\n",
       "      <td>0.050732</td>\n",
       "      <td>0.004427</td>\n",
       "      <td>0.000140</td>\n",
       "      <td>0.050576</td>\n",
       "    </tr>\n",
       "    <tr>\n",
       "      <th>10</th>\n",
       "      <td>2020</td>\n",
       "      <td>185</td>\n",
       "      <td>1749</td>\n",
       "      <td>0.105760</td>\n",
       "      <td>0.007219</td>\n",
       "      <td>0.000228</td>\n",
       "      <td>0.105775</td>\n",
       "    </tr>\n",
       "    <tr>\n",
       "      <th>11</th>\n",
       "      <td>2021</td>\n",
       "      <td>120</td>\n",
       "      <td>915</td>\n",
       "      <td>0.131628</td>\n",
       "      <td>0.010780</td>\n",
       "      <td>0.000341</td>\n",
       "      <td>0.131148</td>\n",
       "    </tr>\n",
       "  </tbody>\n",
       "</table>\n",
       "</div>"
      ],
      "text/plain": [
       "    Year  Alttext_okay  Total   BS_mean  BS_stdev  BS_sterr  \\\n",
       "0   2010            14   1894  0.007406  0.001958  0.000062   \n",
       "1   2011             9   2068  0.004324  0.001494  0.000047   \n",
       "2   2012            12   2101  0.005662  0.001639  0.000052   \n",
       "3   2013            22   2151  0.010239  0.002160  0.000068   \n",
       "4   2014            80   2303  0.034740  0.003765  0.000119   \n",
       "5   2015            75   2367  0.031667  0.003633  0.000115   \n",
       "6   2016            60   2409  0.024894  0.003134  0.000099   \n",
       "7   2017            88   2376  0.036870  0.003874  0.000123   \n",
       "8   2018           111   2447  0.045365  0.004192  0.000133   \n",
       "9   2019           123   2432  0.050732  0.004427  0.000140   \n",
       "10  2020           185   1749  0.105760  0.007219  0.000228   \n",
       "11  2021           120    915  0.131628  0.010780  0.000341   \n",
       "\n",
       "    Proportion w/ alt-text  \n",
       "0                 0.007392  \n",
       "1                 0.004352  \n",
       "2                 0.005712  \n",
       "3                 0.010228  \n",
       "4                 0.034737  \n",
       "5                 0.031686  \n",
       "6                 0.024907  \n",
       "7                 0.037037  \n",
       "8                 0.045362  \n",
       "9                 0.050576  \n",
       "10                0.105775  \n",
       "11                0.131148  "
      ]
     },
     "metadata": {},
     "output_type": "display_data"
    }
   ],
   "source": [
    "# Load alt text count data\n",
    "year = []\n",
    "alttext_okay = []\n",
    "total = []\n",
    "with open('../data/pdf_alttext_success.csv', 'r') as f:\n",
    "    reader = csv.reader(f)\n",
    "    next(reader)\n",
    "    for y, a, t in reader:\n",
    "        if int(y) > 2009:\n",
    "            year.append(int(y))\n",
    "            alttext_okay.append(int(a))\n",
    "            total.append(int(t))\n",
    "\n",
    "# Bootstrap alt text proportion errors            \n",
    "bootstrap_n = 1000\n",
    "bs_mean = []\n",
    "bs_stdev = []\n",
    "\n",
    "print('=== BOOTSTRAPPING ===')\n",
    "for y, a, t in zip(year, alttext_okay, total):\n",
    "    print(y)\n",
    "    population = [1]*a + [0]*(t - a)\n",
    "    bootstrap_props = []\n",
    "    for b_iter in range(bootstrap_n):\n",
    "        sample = random.choices(population, k=t)\n",
    "        prop = sum(sample) / t\n",
    "        bootstrap_props.append(prop)\n",
    "    bs_mean.append(np.mean(bootstrap_props))\n",
    "    bs_stdev.append(np.std(bootstrap_props))\n",
    "\n",
    "bs_sterr = [std / np.sqrt(bootstrap_n) for std in bs_stdev]\n",
    "  \n",
    "df = pd.DataFrame(\n",
    "    zip(year, alttext_okay, total, bs_mean, bs_stdev, bs_sterr), \n",
    "    columns = ['Year', 'Alttext_okay', 'Total', 'BS_mean', 'BS_stdev', 'BS_sterr']\n",
    ")\n",
    "    \n",
    "df['Proportion w/ alt-text'] = df['Alttext_okay'] / df['Total']\n",
    "\n",
    "display(df)\n"
   ]
  },
  {
   "cell_type": "code",
   "execution_count": 236,
   "id": "3b554a19",
   "metadata": {},
   "outputs": [
    {
     "data": {
      "image/png": "[encoded data removed]",
      "text/plain": [
       "<Figure size 576x288 with 1 Axes>"
      ]
     },
     "metadata": {},
     "output_type": "display_data"
    }
   ],
   "source": [
    "# Plot alt text over time\n",
    "plt.close()\n",
    "sns.set_context(\"paper\", font_scale=2.0)\n",
    "sns.set_style(\"whitegrid\")\n",
    "\n",
    "f, ax = plt.subplots(figsize = (8, 4))\n",
    "sns.set_color_codes('muted')\n",
    "ax.plot(df['Year'], df['Proportion w/ alt-text'], color='tab:blue', linewidth=1.5, marker='o', markersize=8)\n",
    "ax.fill_between(df['Year'], df['Proportion w/ alt-text']-1.96*df['BS_stdev'], df['Proportion w/ alt-text']+1.96*df['BS_stdev'],\n",
    "    alpha=0.12, edgecolor='blue', facecolor='blue',\n",
    "    linewidth=0)\n",
    "\n",
    "# Iterate thorugh each axis\n",
    "ax.set_title('Proportion of analyzed PDFs w/ valid alt-text', fontsize=20)\n",
    "ax.set_xlabel('Year', fontsize=18)\n",
    "ax.set_ylabel('Proportion', fontsize=18)\n",
    "ax.set_xlim((2009.8, 2021.1))\n",
    "ax.set_ylim((0, 0.15))\n",
    "# ax.grid(False)\n",
    "ax.spines['top'].set_visible(False)\n",
    "ax.spines['right'].set_visible(False)\n",
    "\n",
    "plt.tight_layout()\n",
    "plt.show()\n",
    "\n",
    "# plt.savefig(os.path.join(OUTPUT_DIR, 'alttext_over_time.png'))"
   ]
  },
  {
   "cell_type": "markdown",
   "id": "3e2c44b4",
   "metadata": {},
   "source": [
    "## Analyzing semantic levels of alt text"
   ]
  },
  {
   "cell_type": "code",
   "execution_count": 27,
   "id": "3e843539",
   "metadata": {},
   "outputs": [
    {
     "name": "stdout",
     "output_type": "stream",
     "text": [
      "=== Max levels ===\n",
      "0: 5\n",
      "1: 189\n",
      "2: 182\n",
      "3: 162\n",
      "4: 9\n",
      "\n",
      "=== Number of unique levels ===\n",
      "0: 5\n",
      "1: 202\n",
      "2: 262\n",
      "3: 75\n",
      "4: 3\n"
     ]
    }
   ],
   "source": [
    "# Display information about number and distribution of semantic levels in annotation data\n",
    "max_levels = []\n",
    "num_levels = []\n",
    "\n",
    "img_levels = [entry['levels'] for entry in data]\n",
    "for levels in img_levels:\n",
    "    flat_levels = flatten(levels)\n",
    "    max_level = max(flat_levels)\n",
    "    if max_level >= 0:\n",
    "        max_levels.append(max_level)\n",
    "    if set(flat_levels) != {-1}:\n",
    "        num_levels.append(len(set([l for l in flat_levels if l >= 1])))\n",
    "    \n",
    "print('=== Max levels ===')\n",
    "max_counts = Counter(max_levels)\n",
    "for k in range(0, 5):\n",
    "    print(f'{k}: {max_counts[k]}')\n",
    "\n",
    "print()\n",
    "print('=== Number of unique levels ===')\n",
    "num_counts = Counter(num_levels)\n",
    "for k in range(0, 5):\n",
    "    print(f'{k}: {num_counts[k]}')\n",
    "    "
   ]
  },
  {
   "cell_type": "code",
   "execution_count": 164,
   "id": "7a5e24c1",
   "metadata": {},
   "outputs": [
    {
     "data": {
      "image/png": "[encoded data removed]",
      "text/plain": [
       "<Figure size 576x288 with 1 Axes>"
      ]
     },
     "metadata": {},
     "output_type": "display_data"
    }
   ],
   "source": [
    "# Plot distribution of max levels\n",
    "df = pd.DataFrame.from_dict(max_counts, orient='index').reset_index()\n",
    "df = df.rename(columns={0: \"max\"})\n",
    "\n",
    "plt.close()\n",
    "sns.set_context(\"paper\", font_scale=2.0)\n",
    "sns.set_style(\"whitegrid\")\n",
    "\n",
    "f, ax = plt.subplots(figsize = (8, 4))\n",
    "sns.set_color_codes('muted')\n",
    "sns.barplot(x = 'index', y = 'max', data = df,\n",
    "            label = 'Max level', color = 'b', edgecolor = 'k')\n",
    "\n",
    "# Iterate thorugh each axis\n",
    "ax.set_title('Distribution of alt-text max content level', fontsize=22)\n",
    "ax.set_xlabel('Max level', fontsize=18)\n",
    "ax.set_ylabel('Number of alt-text', fontsize=18)\n",
    "\n",
    "plt.tight_layout()\n",
    "plt.show()\n",
    "\n",
    "# plt.savefig(os.path.join(OUTPUT_DIR, 'max_alt_text_level.png'))\n"
   ]
  },
  {
   "cell_type": "code",
   "execution_count": 163,
   "id": "39338ff3",
   "metadata": {},
   "outputs": [
    {
     "data": {
      "image/png": "[encoded data removed]",
      "text/plain": [
       "<Figure size 576x288 with 1 Axes>"
      ]
     },
     "metadata": {},
     "output_type": "display_data"
    }
   ],
   "source": [
    "# Plot distribution of number of levels\n",
    "df = pd.DataFrame.from_dict(num_counts, orient='index').reset_index()\n",
    "df = df.rename(columns={0: \"num\"})\n",
    "\n",
    "plt.close()\n",
    "sns.set_context(\"paper\", font_scale=2.0)\n",
    "sns.set_style(\"whitegrid\")\n",
    "\n",
    "f, ax = plt.subplots(figsize = (8, 4))\n",
    "sns.set_color_codes('muted')\n",
    "sns.barplot(x = 'index', y = 'num', data = df,\n",
    "            label = 'Number of levels', color = 'b', edgecolor = 'k')\n",
    "\n",
    "# Iterate thorugh each axis\n",
    "ax.set_title('Distribution of number of alt-text content levels', fontsize=22)\n",
    "ax.set_xlabel('Number of levels', fontsize=18)\n",
    "ax.set_ylabel('Number of alt-text', fontsize=18)\n",
    "\n",
    "plt.tight_layout()\n",
    "plt.show()\n",
    "\n",
    "# plt.savefig(os.path.join(OUTPUT_DIR, 'number_of_alt_text_levels.png'))\n"
   ]
  },
  {
   "cell_type": "markdown",
   "id": "fabc45d7",
   "metadata": {},
   "source": [
    "## Length of alt text versus semantic levels"
   ]
  },
  {
   "cell_type": "code",
   "execution_count": 138,
   "id": "0c5616ab",
   "metadata": {},
   "outputs": [],
   "source": [
    "# Get alt text length and number of levels present\n",
    "levels_and_alttext = [(entry['levels'], entry['alt_text']) for entry in data]\n",
    "alttext_len_and_level = []\n",
    "for levels, alttext in levels_and_alttext:\n",
    "    flat_levels = flatten(levels)\n",
    "    if set(flat_levels) != {-1}:\n",
    "        num_levels = len(set([l for l in flat_levels if l >= 1]))\n",
    "        alttext_len_and_level.append((num_levels, len(alttext)))   "
   ]
  },
  {
   "cell_type": "code",
   "execution_count": 160,
   "id": "42ce2390",
   "metadata": {},
   "outputs": [
    {
     "data": {
      "image/png": "[encoded data removed]",
      "text/plain": [
       "<Figure size 504x504 with 1 Axes>"
      ]
     },
     "metadata": {},
     "output_type": "display_data"
    }
   ],
   "source": [
    "# Plot distribution of levels by length\n",
    "df = pd.DataFrame(alttext_len_and_level, columns=['Number of levels', 'Length'])\n",
    "\n",
    "plt.close()\n",
    "sns.set_context(\"paper\", font_scale=1.6)\n",
    "sns.set_style(\"whitegrid\")\n",
    "\n",
    "f, ax = plt.subplots(figsize = (7, 7))\n",
    "sns.set_color_codes('muted')\n",
    "ax = sns.boxplot(x=\"Number of levels\", y=\"Length\", color='lightgray', linewidth=2, data=df)\n",
    "\n",
    "# Iterate thorugh each axis\n",
    "ax.set_title('Number of content levels vs. length of alt-text', fontsize=20)\n",
    "ax.set_xlabel('Number of levels', fontsize=16)\n",
    "ax.set_ylabel('Length of alt-text', fontsize=16)\n",
    "ax.set_ylim([0, 2500])\n",
    "\n",
    "plt.tight_layout()\n",
    "plt.show()\n",
    "\n",
    "# plt.savefig(os.path.join(OUTPUT_DIR, 'alt_text_level_by_length.png'))\n"
   ]
  },
  {
   "cell_type": "markdown",
   "id": "894ca91a",
   "metadata": {},
   "source": [
    "## Semantic levels in alt text over time"
   ]
  },
  {
   "cell_type": "code",
   "execution_count": null,
   "id": "f91c9b87",
   "metadata": {},
   "outputs": [],
   "source": []
  }
 ],
 "metadata": {
  "kernelspec": {
   "display_name": "Python 3.8.9 64-bit",
   "language": "python",
   "name": "python3"
  },
  "language_info": {
   "codemirror_mode": {
    "name": "ipython",
    "version": 3
   },
   "file_extension": ".py",
   "mimetype": "text/x-python",
   "name": "python",
   "nbconvert_exporter": "python",
   "pygments_lexer": "ipython3",
   "version": "3.8.9"
  },
  "vscode": {
   "interpreter": {
    "hash": "31f2aee4e71d21fbe5cf8b01ff0e069b9275f58929596ceb00d14d90e3e16cd6"
   }
  }
 },
 "nbformat": 4,
 "nbformat_minor": 5
}
