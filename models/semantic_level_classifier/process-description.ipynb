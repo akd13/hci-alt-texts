{
 "cells": [
  {
   "cell_type": "code",
   "execution_count": 30,
   "id": "d98b5ca2-14a4-4b6b-9013-c36472821fb9",
   "metadata": {},
   "outputs": [],
   "source": [
    "import pandas as pd\n",
    "import json\n",
    "import re"
   ]
  },
  {
   "cell_type": "code",
   "execution_count": 31,
   "id": "6b1e57f1-691a-48c0-a8da-7ae56a00b499",
   "metadata": {},
   "outputs": [],
   "source": [
    "df = pd.read_csv('modified_results_final.csv')"
   ]
  },
  {
   "cell_type": "code",
   "execution_count": 36,
   "id": "7418fd1e-edb8-4fc3-9f88-f9c294abae66",
   "metadata": {},
   "outputs": [],
   "source": [
    "df = df.drop(columns=['Unnamed: 0'])"
   ]
  },
  {
   "cell_type": "code",
   "execution_count": 37,
   "id": "9c34a2d0-a908-4d19-b6ff-3bad51c8ebae",
   "metadata": {},
   "outputs": [
    {
     "data": {
      "text/plain": [
       "Index(['category', 'desc_type', 'comments', 'descriptions',\n",
       "       'difficulty_rating', 'endTime', 'experiment_id', 'image',\n",
       "       'is_data_visualization', 'languages', 'minivlat_answers', 'prolific_id',\n",
       "       'reaction_times', 'self_understanding', 'startDate', 'startTime',\n",
       "       'timeSpent', 'topic', 'trial_number', 'endDate', 'minivlat_score',\n",
       "       'num_words', 'caption', 'alttext', 'char_count', 'num_words_caption',\n",
       "       'num_words_alttext', 'desc_caption_jaccard', 'desc_caption_sbert',\n",
       "       'desc_alttext_sbert', 'sbert_alttext_caption', 'question1',\n",
       "       'question10', 'question11', 'question12', 'question2', 'question3',\n",
       "       'question4', 'question5', 'question6', 'question7', 'question8',\n",
       "       'question9'],\n",
       "      dtype='object')"
      ]
     },
     "execution_count": 37,
     "metadata": {},
     "output_type": "execute_result"
    }
   ],
   "source": [
    "df.columns"
   ]
  },
  {
   "cell_type": "code",
   "execution_count": 45,
   "id": "4de6dcac-3384-4167-93b7-916d3011faac",
   "metadata": {},
   "outputs": [],
   "source": [
    "df_first = df[df['desc_type'] == 'first']\n",
    "df_second = df[df['desc_type'] == 'second']\n",
    "\n",
    "merged_df = pd.merge(df_first, df_second, on=['prolific_id', 'image'])"
   ]
  },
  {
   "cell_type": "code",
   "execution_count": 55,
   "id": "42320dfd-0339-4873-b021-f26791f30a96",
   "metadata": {},
   "outputs": [
    {
     "ename": "TypeError",
     "evalue": "'int' object is not subscriptable",
     "output_type": "error",
     "traceback": [
      "\u001b[0;31m---------------------------------------------------------------------------\u001b[0m",
      "\u001b[0;31mTypeError\u001b[0m                                 Traceback (most recent call last)",
      "Cell \u001b[0;32mIn[55], line 3\u001b[0m\n\u001b[1;32m      1\u001b[0m \u001b[38;5;28;01mfor\u001b[39;00m i \u001b[38;5;129;01min\u001b[39;00m merged_df\u001b[38;5;241m.\u001b[39miterrows():\n\u001b[1;32m      2\u001b[0m     \u001b[38;5;28;01mfor\u001b[39;00m item \u001b[38;5;129;01min\u001b[39;00m i:\n\u001b[0;32m----> 3\u001b[0m         \u001b[38;5;28;01mif\u001b[39;00m \u001b[43mitem\u001b[49m\u001b[43m[\u001b[49m\u001b[38;5;241;43m0\u001b[39;49m\u001b[43m]\u001b[49m\u001b[38;5;241m.\u001b[39mstartswith(\u001b[38;5;124m'\u001b[39m\u001b[38;5;124mdescription\u001b[39m\u001b[38;5;124m'\u001b[39m):\n\u001b[1;32m      4\u001b[0m             \u001b[38;5;28mprint\u001b[39m(item[\u001b[38;5;241m1\u001b[39m])\n",
      "\u001b[0;31mTypeError\u001b[0m: 'int' object is not subscriptable"
     ]
    }
   ],
   "source": []
  },
  {
   "cell_type": "code",
   "execution_count": 56,
   "id": "e3073df0-9a44-470d-b808-d6352c2cdb4a",
   "metadata": {},
   "outputs": [],
   "source": [
    "descriptions = merged_df['descriptions_x'].tolist()"
   ]
  },
  {
   "cell_type": "code",
   "execution_count": 57,
   "id": "e49c242d-f955-4949-bbc3-c9a73e33acb9",
   "metadata": {},
   "outputs": [
    {
     "data": {
      "text/plain": [
       "['Bar graph showing Nutaariut population changes years from 1991 to 2010',\n",
       " 'There is a graph with thick blue lines. They have the years across the bottom of the graph that are from 1991 to 2010. Each year has a thick blue line coming from it that has a number above the blue line. The lowest number on the graph is 126 with the highest number being 214.',\n",
       " 'This is a bar graph with the year on the x axis and the population on the y axis. The years range from 1991 to 2010.',\n",
       " 'The image shows the number of seat won by 7 different political groups in Croatia over a period of 24 years.',\n",
       " 'This is a bar graph representing the population growth dynamics from 1991 to 2010.',\n",
       " 'This pie chart shows the average electricity price for a german household',\n",
       " 'Graph captures the upward slop to display data for inverse operation for super root and other super roots. ']"
      ]
     },
     "execution_count": 57,
     "metadata": {},
     "output_type": "execute_result"
    }
   ],
   "source": [
    "descriptions"
   ]
  },
  {
   "cell_type": "code",
   "execution_count": 59,
   "id": "a57d8538-1c53-4bbb-a9b8-6c6d6566ab85",
   "metadata": {},
   "outputs": [],
   "source": [
    "corpus_count = 1000"
   ]
  },
  {
   "cell_type": "code",
   "execution_count": 60,
   "id": "b5f4523d-ccca-4665-bbb5-a413caa2b803",
   "metadata": {},
   "outputs": [],
   "source": [
    "json_objects = []\n",
    "for desc in descriptions:\n",
    "    sentences = re.split(r\"(?<=\\.)(\\s)(?=[A-Z])\", desc)\n",
    "    formatted_sentence = [i for i in sentences if i != \" \"]\n",
    "    for i in range(len(formatted_sentence)//2+1):\n",
    "      sent_id = int(2*i)\n",
    "      json_objects.append({\n",
    "          \"corpus_id\":corpus_count,\n",
    "          \"sent_id\":int(i),\n",
    "          \"text\": sentences[sent_id]+sentences[sent_id+1] if i!= len(sentences)//2 else sentences[sent_id],\n",
    "          \"labels\":[-1, -1, -1, -1]\n",
    "      })\n",
    "    "
   ]
  },
  {
   "cell_type": "code",
   "execution_count": 61,
   "id": "289ab30e-2121-47f2-a2ab-bb84e32b15ee",
   "metadata": {},
   "outputs": [],
   "source": [
    "with open('only_first.jsonl', 'w') as file:\n",
    "    for obj in json_objects:\n",
    "        json.dump(obj, file)\n",
    "        file.write('\\n')"
   ]
  },
  {
   "cell_type": "code",
   "execution_count": null,
   "id": "0683b99a-5455-4bbb-9660-4773af9ff0b3",
   "metadata": {},
   "outputs": [],
   "source": []
  }
 ],
 "metadata": {
  "kernelspec": {
   "display_name": "venv",
   "language": "python",
   "name": "venv"
  },
  "language_info": {
   "codemirror_mode": {
    "name": "ipython",
    "version": 3
   },
   "file_extension": ".py",
   "mimetype": "text/x-python",
   "name": "python",
   "nbconvert_exporter": "python",
   "pygments_lexer": "ipython3",
   "version": "3.10.10"
  }
 },
 "nbformat": 4,
 "nbformat_minor": 5
}
